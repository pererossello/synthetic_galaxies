{
 "cells": [
  {
   "cell_type": "code",
   "execution_count": 3,
   "metadata": {},
   "outputs": [],
   "source": [
    "%reload_ext autoreload\n",
    "%autoreload 2\n",
    "\n",
    "from imports import *\n",
    "from gutils import potentials"
   ]
  },
  {
   "cell_type": "markdown",
   "metadata": {},
   "source": [
    "Choose a potential. Modify the potentials dic in gutils.py to add/change potentials."
   ]
  },
  {
   "cell_type": "code",
   "execution_count": 4,
   "metadata": {},
   "outputs": [
    {
     "name": "stdout",
     "output_type": "stream",
     "text": [
      "{'m': m, 'r_s': r_s, 'a': a, 'b': b, 'c': c, 'G': G}\n",
      "-G*m*log(1 + sqrt(z**2/c**2 + y**2/b**2 + x**2/a**2)/r_s)/sqrt(z**2/c**2 + y**2/b**2 + x**2/a**2)\n"
     ]
    }
   ],
   "source": [
    "potential_name = 'NFWPotential'\n",
    "potential = potentials[potential_name]['pot']  # get the potential object from gala\n",
    "vals = potentials[potential_name]['vals']  # get a list of the params we set for the potential\n",
    "\n",
    "# get the mass density function and the parameters of the potential \n",
    "dens_func, params = gu.get_dens_func(potential)"
   ]
  },
  {
   "cell_type": "markdown",
   "metadata": {},
   "source": [
    "Set the initial configuration of the particles. \n",
    "\n",
    "Position of particles are set up according to the initial density distribution coming from the potential. \n",
    "\n",
    "Velocities are set up in a more complex way. \n",
    "- We assume an angular momentum direction for the galaxy in the z+ direction.\n",
    "- We get the circular velocity per body using potential.circular_velocity method from gala\n",
    "- We orient the orbit such that maximized angular momentum in t he z+ direction.  "
   ]
  },
  {
   "cell_type": "code",
   "execution_count": 5,
   "metadata": {},
   "outputs": [],
   "source": [
    "\n",
    "N = 10000  # Number of particles\n",
    "S = 100  # Fineness of the density grid\n",
    "lims = np.array((1,1,1))*1  # 3D limit where you want particles\n",
    "scale_v_phi = 0.9  # Scale the rotational velocity of the orbits by a factor\n",
    "scale_R, scale_z = 1, 1   # Noise in local radial and z direction w/ respect to orbit "
   ]
  },
  {
   "cell_type": "code",
   "execution_count": 14,
   "metadata": {},
   "outputs": [
    {
     "data": {
      "image/png": "[encoded data removed]",
      "text/plain": [
       "<Figure size 810x540 with 3 Axes>"
      ]
     },
     "metadata": {},
     "output_type": "display_data"
    }
   ],
   "source": [
    "par_vals = vals + [1]\n",
    "par_dic = dict(zip(params, par_vals))\n",
    "# Get an array for the density\n",
    "dens_arr, X, Y, Z = gu.get_dens_arr(dens_func, \n",
    "                                    par_dic, \n",
    "                                    lims=lims, \n",
    "                                    S=S)*u.Msun/(u.kpc)**3\n",
    "\n",
    "# Get the random positions following the density distribution within lims\n",
    "pos = gu.get_sample(X, Y, Z, dens_arr, N=N)\n",
    "pos_norm = pos/np.apply_along_axis(np.linalg.norm, 0, pos)\n",
    "\n",
    "# Get the velocities\n",
    "v_phi = potential.circular_velocity(pos)*scale_v_phi\n",
    "v_R = np.random.normal(0, scale_R, pos.shape[1])\n",
    "v_z = np.random.normal(0, scale_z, pos.shape[1])\n",
    "n_vec = np.array([ut.cil_norm(pos[:,i])[0] for i in range(pos.shape[1])]).T\n",
    "vel = np.array([ut.cil_norm(pos[:,i])[1] for i in range(pos.shape[1])]).T\n",
    "vel_mag = vel*v_phi + v_R*pos_norm*v_phi.unit + v_z*n_vec*v_phi.unit\n",
    "\n",
    "# Get the phase space object\n",
    "phsp = gd.PhaseSpacePosition(pos=pos, vel=vel_mag)\n",
    "\n",
    "# Take a look at the mass density distribution and velocities\n",
    "pu.plot_vel_distr(v_phi.value, v_R, v_z, pos, v_lim=500)"
   ]
  },
  {
   "cell_type": "markdown",
   "metadata": {},
   "source": [
    "Integrate the orbits, and plot and save of the result at each time step. \n",
    "We first set some plot parameters."
   ]
  },
  {
   "cell_type": "code",
   "execution_count": 16,
   "metadata": {},
   "outputs": [],
   "source": [
    "# Total integration time and time step\n",
    "TT, dt = 100, 0.1\n",
    "# Number of batches when computing orbits to avoid memory issues\n",
    "batches = 100\n",
    "\n",
    "# Where to save the plots\n",
    "save_fold = f'../figures/{potential_name}/pngs/'\n",
    "if not os.path.exists(save_fold):\n",
    "    os.makedirs(save_fold)\n",
    "\n",
    "# plot each :step: of the integration\n",
    "step = 1\n",
    "\n",
    "facecolor = '#242424'  # background color\n",
    "scatter_color = 'w'\n",
    "fig_size = 1080\n",
    "\n",
    "# Size of scatter points\n",
    "scatter_size = 5e-2\n",
    "\n",
    "# limits of the 3D scatter plot and view\n",
    "lim = np.array((1, 1, 1))*0.55\n",
    "el, az = 20, 20  # elevation, azimuth\n",
    "\n",
    "# Some cropping params of the plot\n",
    "dr = 2.25\n",
    "x0, y0 = 0.75, 0.75\n",
    "x1, y1 = x0 + dr, y0 + dr"
   ]
  },
  {
   "cell_type": "code",
   "execution_count": null,
   "metadata": {},
   "outputs": [],
   "source": [
    "H = gp.Hamiltonian(potential)\n",
    "DT = TT/batches\n",
    "Ts = np.linspace(0, TT, batches+1)\n",
    "\n",
    "# Initialize the figure and axes\n",
    "fig, axs, fs, gs = pu.initialize_3d(fig_size=fig_size, l=lim, \n",
    "                                    elev=el, azim=az, facecolor=facecolor)\n",
    "\n",
    "ax = axs[0][0]\n",
    "final = int(DT/dt)\n",
    "\n",
    "# Go through batches\n",
    "for i, T in enumerate(Ts[:]):\n",
    "    if i==0:\n",
    "        init_cond = phsp\n",
    "    orbits = H.integrate_orbit(init_cond, dt=dt*u.Myr,\n",
    "                                t1=0*u.Myr, t2=DT*u.Myr)\n",
    "    xs = orbits.x.value\n",
    "    ys = orbits.y.value\n",
    "    zs = orbits.z.value\n",
    "\n",
    "    vx = orbits.v_x.value\n",
    "    vy = orbits.v_y.value\n",
    "    vz = orbits.v_z.value\n",
    "\n",
    "    init_cond = orbits[-1]\n",
    "\n",
    "    # Plot each time step\n",
    "    for jj, j in enumerate(range(0, final, step)):\n",
    "        jj = int(jj + (i)*final)\n",
    "        j = int(j*step)\n",
    "        x_, y_, z_ = xs[j,:], ys[j,:], zs[j,:]\n",
    "        v = np.sqrt(vx[j,:]**2 + vy[j,:]**2 + vz[j,:]**2)\n",
    "\n",
    "        scatter = ax.scatter(x_, y_, z_, \n",
    "                             #c=v, cmap=cmap, \n",
    "                             c='w',\n",
    "                             s=fs*scatter_size, lw=0.0*fs, alpha=1)\n",
    "\n",
    "        fig_name = f'render_{jj:04d}.png'\n",
    "        save_path = save_fold + fig_name\n",
    "\n",
    "        fig.savefig(save_path, dpi=300, bbox_inches=mpl.transforms.Bbox([[x0, y0], [x1, y1]]))\n",
    "\n",
    "        plt.close()\n",
    "\n",
    "        # delete scatter\n",
    "        scatter.remove()\n",
    "\n",
    "    print(f'\\rbatch {i}/{batches}. T={T:.2f} Myr', end=\"\")"
   ]
  },
  {
   "cell_type": "code",
   "execution_count": null,
   "metadata": {},
   "outputs": [],
   "source": [
    "# make a video out of it\n",
    "fps = 20\n",
    "pu.png_to_mp4(save_fold, fps=fps, title=f'video_{fps}')"
   ]
  },
  {
   "cell_type": "code",
   "execution_count": null,
   "metadata": {},
   "outputs": [],
   "source": [
    "# or a gif\n",
    "fps = 20\n",
    "pu.png_to_mp4(save_fold, fps=fps, title=f'video_{fps}')"
   ]
  }
 ],
 "metadata": {
  "kernelspec": {
   "display_name": "galenv",
   "language": "python",
   "name": "python3"
  },
  "language_info": {
   "codemirror_mode": {
    "name": "ipython",
    "version": 3
   },
   "file_extension": ".py",
   "mimetype": "text/x-python",
   "name": "python",
   "nbconvert_exporter": "python",
   "pygments_lexer": "ipython3",
   "version": "3.8.18"
  }
 },
 "nbformat": 4,
 "nbformat_minor": 2
}
